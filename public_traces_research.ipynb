{
 "cells": [
  {
   "cell_type": "code",
   "execution_count": 1,
   "id": "initial_id",
   "metadata": {
    "collapsed": true,
    "ExecuteTime": {
     "end_time": "2023-10-01T15:54:41.957815Z",
     "start_time": "2023-10-01T15:54:40.853684Z"
    }
   },
   "outputs": [],
   "source": [
    "from coord_tools import BBox\n",
    "from public_traces import GPX\n",
    "from geo_tools import plot_gpx_trace\n",
    "from geo_tools import plot_gpx_trace_folium, get_map\n",
    "import gpxpy\n",
    "from public_traces import GPXTrace\n",
    "from public_traces import public_traces_api\n",
    "bbox = BBox( 19.820580482482914,45.24794182767293,19.836115837097168,45.25313842014028)"
   ]
  },
  {
   "cell_type": "code",
   "execution_count": 2,
   "outputs": [
    {
     "name": "stdout",
     "output_type": "stream",
     "text": [
      "requesting page 0\n",
      "requesting page 1\n",
      "requesting page 2\n",
      "requesting page 3\n",
      "requesting page 4\n"
     ]
    }
   ],
   "source": [
    "gpx_pages = []\n",
    "async for gpx_page in public_traces_api.query_with_pagination(f\"trackpoints?bbox={bbox}\"):\n",
    "    gpx_pages.append(gpx_page)"
   ],
   "metadata": {
    "collapsed": false,
    "ExecuteTime": {
     "end_time": "2023-10-01T15:54:41.973133Z",
     "start_time": "2023-10-01T15:54:41.958574Z"
    }
   },
   "id": "158df452345941e4"
  },
  {
   "cell_type": "code",
   "execution_count": 3,
   "outputs": [],
   "source": [
    "gpx = GPXTrace(gpx_pages, bbox)\n",
    "# gpx.tracks_as_dict()['tracks'][0]"
   ],
   "metadata": {
    "collapsed": false,
    "ExecuteTime": {
     "end_time": "2023-10-01T15:54:42.315589Z",
     "start_time": "2023-10-01T15:54:41.968519Z"
    }
   },
   "id": "55c64519a56f854c"
  },
  {
   "cell_type": "code",
   "execution_count": 9,
   "outputs": [
    {
     "data": {
      "text/plain": "'k24'"
     },
     "execution_count": 9,
     "metadata": {},
     "output_type": "execute_result"
    }
   ],
   "source": [
    "gpx.tracks[3].desc"
   ],
   "metadata": {
    "collapsed": false,
    "ExecuteTime": {
     "end_time": "2023-10-01T15:55:03.214409Z",
     "start_time": "2023-10-01T15:55:03.208009Z"
    }
   },
   "id": "dbdd7212c6a7b3a7"
  },
  {
   "cell_type": "code",
   "execution_count": 59,
   "outputs": [
    {
     "name": "stdout",
     "output_type": "stream",
     "text": [
      "requesting page 0\n",
      "requesting page 1\n",
      "requesting page 2\n",
      "requesting page 3\n",
      "requesting page 4\n"
     ]
    }
   ],
   "source": [
    "\n",
    "gpx_list = []\n",
    "for gpx_page in public_traces_api.query_with_pagination(f\"trackpoints?bbox={bbox}\"):\n",
    "    gpx_list.extend(GPX.extract_list_of_gpx_from_xml(gpx_page))\n",
    "        "
   ],
   "metadata": {
    "collapsed": false,
    "ExecuteTime": {
     "end_time": "2023-10-01T13:01:49.295285Z",
     "start_time": "2023-10-01T13:01:49.250834Z"
    }
   },
   "id": "f50a3ca2f663125"
  },
  {
   "cell_type": "code",
   "execution_count": 4,
   "outputs": [
    {
     "data": {
      "text/plain": "[29.922366085647326,\n 26.127228892009217,\n 19.34375055810234,\n 10.134230814634186,\n 10.07879716683849,\n 11.460991607919421,\n 10.700996386775,\n 8.321602335009858,\n 10.370063210190104,\n 10.370063210190104,\n 10.841231325065802,\n 10.841231325065802,\n 10.996678777080755,\n 31.6530409774075,\n 31.6530409774075,\n 33.54784076875562,\n 33.54784076875562,\n 33.54784076875562,\n 33.54784076875562,\n 33.54784076875562,\n 9.894001598185865,\n 19.675367046566944,\n 0.8742742927172427]"
     },
     "execution_count": 4,
     "metadata": {},
     "output_type": "execute_result"
    }
   ],
   "source": [
    "[track['average_speed_kph'] for track in gpx.tracks] \n"
   ],
   "metadata": {
    "collapsed": false,
    "ExecuteTime": {
     "start_time": "2023-10-01T14:51:31.858530Z"
    }
   },
   "id": "f41c09a0e8227ab4"
  },
  {
   "cell_type": "code",
   "execution_count": 60,
   "outputs": [
    {
     "name": "stdout",
     "output_type": "stream",
     "text": [
      "None\n",
      "None\n",
      "None\n",
      "None\n",
      "None\n",
      "None\n",
      "None\n",
      "None\n",
      "None\n",
      "None\n",
      "None\n",
      "None\n",
      "None\n",
      "None\n",
      "None\n",
      "None\n",
      "None\n",
      "None\n",
      "None\n",
      "None\n",
      "None\n",
      "None\n",
      "None\n",
      "None\n",
      "None\n",
      "None\n",
      "None\n",
      "None\n",
      "None\n",
      "None\n",
      "None\n",
      "None\n",
      "None\n",
      "None\n",
      "None\n",
      "None\n",
      "None\n",
      "None\n"
     ]
    }
   ],
   "source": [
    "for gpx in gpx_list:\n",
    "    for segment in gpx.as_dict()['track_segments']:\n",
    "         print(segment['track_points'][0]['time'])"
   ],
   "metadata": {
    "collapsed": false,
    "ExecuteTime": {
     "end_time": "2023-10-01T13:01:50.102505Z",
     "start_time": "2023-10-01T13:01:50.098576Z"
    }
   },
   "id": "ce0bfee0aefd1ace"
  },
  {
   "cell_type": "code",
   "execution_count": 13,
   "outputs": [
    {
     "name": "stdout",
     "output_type": "stream",
     "text": [
      "0 red\n"
     ]
    }
   ],
   "source": [
    "\n",
    "\n",
    "m = get_map(gpx_list)\n",
    "plot_gpx_trace_folium(m, [gpx_list[22]])"
   ],
   "metadata": {
    "collapsed": false,
    "ExecuteTime": {
     "start_time": "2023-10-01T12:08:51.265822Z"
    }
   },
   "id": "3f75848ea1d02db9"
  },
  {
   "cell_type": "code",
   "execution_count": 14,
   "outputs": [
    {
     "data": {
      "text/plain": "<folium.folium.Map at 0x13f465390>",
      "text/html": "<div style=\"width:100%;\"><div style=\"position:relative;width:100%;height:0;padding-bottom:60%;\"><span style=\"color:#565656\">Make this Notebook Trusted to load map: File -> Trust Notebook</span><iframe srcdoc=\"&lt;!DOCTYPE html&gt;\n&lt;html&gt;\n&lt;head&gt;\n    \n    &lt;meta http-equiv=&quot;content-type&quot; content=&quot;text/html; charset=UTF-8&quot; /&gt;\n    \n        &lt;script&gt;\n            L_NO_TOUCH = false;\n            L_DISABLE_3D = false;\n        &lt;/script&gt;\n    \n    &lt;style&gt;html, body {width: 100%;height: 100%;margin: 0;padding: 0;}&lt;/style&gt;\n    &lt;style&gt;#map {position:absolute;top:0;bottom:0;right:0;left:0;}&lt;/style&gt;\n    &lt;script src=&quot;https://cdn.jsdelivr.net/npm/leaflet@1.9.3/dist/leaflet.js&quot;&gt;&lt;/script&gt;\n    &lt;script src=&quot;https://code.jquery.com/jquery-1.12.4.min.js&quot;&gt;&lt;/script&gt;\n    &lt;script src=&quot;https://cdn.jsdelivr.net/npm/bootstrap@5.2.2/dist/js/bootstrap.bundle.min.js&quot;&gt;&lt;/script&gt;\n    &lt;script src=&quot;https://cdnjs.cloudflare.com/ajax/libs/Leaflet.awesome-markers/2.0.2/leaflet.awesome-markers.js&quot;&gt;&lt;/script&gt;\n    &lt;link rel=&quot;stylesheet&quot; href=&quot;https://cdn.jsdelivr.net/npm/leaflet@1.9.3/dist/leaflet.css&quot;/&gt;\n    &lt;link rel=&quot;stylesheet&quot; href=&quot;https://cdn.jsdelivr.net/npm/bootstrap@5.2.2/dist/css/bootstrap.min.css&quot;/&gt;\n    &lt;link rel=&quot;stylesheet&quot; href=&quot;https://netdna.bootstrapcdn.com/bootstrap/3.0.0/css/bootstrap.min.css&quot;/&gt;\n    &lt;link rel=&quot;stylesheet&quot; href=&quot;https://cdn.jsdelivr.net/npm/@fortawesome/fontawesome-free@6.2.0/css/all.min.css&quot;/&gt;\n    &lt;link rel=&quot;stylesheet&quot; href=&quot;https://cdnjs.cloudflare.com/ajax/libs/Leaflet.awesome-markers/2.0.2/leaflet.awesome-markers.css&quot;/&gt;\n    &lt;link rel=&quot;stylesheet&quot; href=&quot;https://cdn.jsdelivr.net/gh/python-visualization/folium/folium/templates/leaflet.awesome.rotate.min.css&quot;/&gt;\n    \n            &lt;meta name=&quot;viewport&quot; content=&quot;width=device-width,\n                initial-scale=1.0, maximum-scale=1.0, user-scalable=no&quot; /&gt;\n            &lt;style&gt;\n                #map_d00d672dd6021e7871f44a622d18079b {\n                    position: relative;\n                    width: 100.0%;\n                    height: 100.0%;\n                    left: 0.0%;\n                    top: 0.0%;\n                }\n                .leaflet-container { font-size: 1rem; }\n            &lt;/style&gt;\n        \n&lt;/head&gt;\n&lt;body&gt;\n    \n    \n            &lt;div class=&quot;folium-map&quot; id=&quot;map_d00d672dd6021e7871f44a622d18079b&quot; &gt;&lt;/div&gt;\n        \n&lt;/body&gt;\n&lt;script&gt;\n    \n    \n            var map_d00d672dd6021e7871f44a622d18079b = L.map(\n                &quot;map_d00d672dd6021e7871f44a622d18079b&quot;,\n                {\n                    center: [45.2480016, 19.8251105],\n                    crs: L.CRS.EPSG3857,\n                    zoom: 15,\n                    zoomControl: true,\n                    preferCanvas: false,\n                }\n            );\n\n            \n\n        \n    \n            var tile_layer_25713df6a156f14190df7727ba677be5 = L.tileLayer(\n                &quot;https://{s}.tile.openstreetmap.org/{z}/{x}/{y}.png&quot;,\n                {&quot;attribution&quot;: &quot;Data by \\u0026copy; \\u003ca target=\\&quot;_blank\\&quot; href=\\&quot;http://openstreetmap.org\\&quot;\\u003eOpenStreetMap\\u003c/a\\u003e, under \\u003ca target=\\&quot;_blank\\&quot; href=\\&quot;http://www.openstreetmap.org/copyright\\&quot;\\u003eODbL\\u003c/a\\u003e.&quot;, &quot;detectRetina&quot;: false, &quot;maxNativeZoom&quot;: 18, &quot;maxZoom&quot;: 18, &quot;minZoom&quot;: 0, &quot;noWrap&quot;: false, &quot;opacity&quot;: 1, &quot;subdomains&quot;: &quot;abc&quot;, &quot;tms&quot;: false}\n            ).addTo(map_d00d672dd6021e7871f44a622d18079b);\n        \n    \n            var poly_line_60acafcc9fd4b22bd4e1bc66521433d8 = L.polyline(\n                [[45.252975, 19.835953], [45.252998, 19.83607], [45.253002, 19.83607], [45.252998, 19.836069], [45.252994, 19.836069], [45.252993, 19.836069], [45.252991, 19.836069], [45.25299, 19.83607], [45.253, 19.83607], [45.252997, 19.83608], [45.252958, 19.836096], [45.252995, 19.83609], [45.253015, 19.836066], [45.252895, 19.836008], [45.252812, 19.836085], [45.252964, 19.836115], [45.252961, 19.836114], [45.252966, 19.836114], [45.252966, 19.836114], [45.252966, 19.836113], [45.252966, 19.836113], [45.252966, 19.836114], [45.252966, 19.836114], [45.252965, 19.836114], [45.252966, 19.836114], [45.252966, 19.836115], [45.252981, 19.836113], [45.253067, 19.836083], [45.253068, 19.836073], [45.253074, 19.836083]],\n                {&quot;bubblingMouseEvents&quot;: true, &quot;color&quot;: &quot;red&quot;, &quot;dashArray&quot;: null, &quot;dashOffset&quot;: null, &quot;fill&quot;: false, &quot;fillColor&quot;: &quot;red&quot;, &quot;fillOpacity&quot;: 0.2, &quot;fillRule&quot;: &quot;evenodd&quot;, &quot;lineCap&quot;: &quot;round&quot;, &quot;lineJoin&quot;: &quot;round&quot;, &quot;noClip&quot;: false, &quot;opacity&quot;: 1.0, &quot;radius&quot;: 3, &quot;smoothFactor&quot;: 1.0, &quot;stroke&quot;: true, &quot;weight&quot;: 3}\n            ).addTo(map_d00d672dd6021e7871f44a622d18079b);\n        \n&lt;/script&gt;\n&lt;/html&gt;\" style=\"position:absolute;width:100%;height:100%;left:0;top:0;border:none !important;\" allowfullscreen webkitallowfullscreen mozallowfullscreen></iframe></div></div>"
     },
     "execution_count": 14,
     "metadata": {},
     "output_type": "execute_result"
    }
   ],
   "source": [
    "m"
   ],
   "metadata": {
    "collapsed": false,
    "ExecuteTime": {
     "end_time": "2023-10-01T12:08:52.003044Z",
     "start_time": "2023-10-01T12:08:51.977158Z"
    }
   },
   "id": "4d57a398bc8fba31"
  },
  {
   "cell_type": "code",
   "execution_count": 36,
   "outputs": [
    {
     "data": {
      "text/plain": "{'name': 'CAMERA2_0_2020_05_12_15_19_51_230__0200.gpx',\n 'desc': 'Serbia',\n 'url': '/user/PulisakZ/traces/3308704',\n 'track_segments': [{'track_points': [{'lat': 45.2502791,\n     'lon': 19.833235,\n     'time': None},\n    {'lat': 45.2502791, 'lon': 19.833235, 'time': None},\n    {'lat': 45.2502729, 'lon': 19.833242, 'time': None},\n    {'lat': 45.2502641, 'lon': 19.8332505, 'time': None},\n    {'lat': 45.2502604, 'lon': 19.8332542, 'time': None},\n    {'lat': 45.2502548, 'lon': 19.8332581, 'time': None},\n    {'lat': 45.2502459, 'lon': 19.8332641, 'time': None},\n    {'lat': 45.2502358, 'lon': 19.8332675, 'time': None},\n    {'lat': 45.2502254, 'lon': 19.8332664, 'time': None},\n    {'lat': 45.2502194, 'lon': 19.8332633, 'time': None},\n    {'lat': 45.2502151, 'lon': 19.8332629, 'time': None},\n    {'lat': 45.2502088, 'lon': 19.8332463, 'time': None},\n    {'lat': 45.2501974, 'lon': 19.8332323, 'time': None},\n    {'lat': 45.25018, 'lon': 19.8332111, 'time': None},\n    {'lat': 45.2501618, 'lon': 19.8331836, 'time': None},\n    {'lat': 45.2501438, 'lon': 19.8331554, 'time': None},\n    {'lat': 45.2501365, 'lon': 19.8331424, 'time': None},\n    {'lat': 45.2501284, 'lon': 19.8331295, 'time': None},\n    {'lat': 45.2501166, 'lon': 19.8331042, 'time': None},\n    {'lat': 45.2501076, 'lon': 19.8330845, 'time': None},\n    {'lat': 45.2501022, 'lon': 19.8330748, 'time': None},\n    {'lat': 45.2501022, 'lon': 19.8330764, 'time': None},\n    {'lat': 45.2501022, 'lon': 19.8330765, 'time': None},\n    {'lat': 45.2501024, 'lon': 19.8330785, 'time': None},\n    {'lat': 45.2501025, 'lon': 19.8330796, 'time': None},\n    {'lat': 45.2501025, 'lon': 19.8330802, 'time': None},\n    {'lat': 45.2501026, 'lon': 19.8330805, 'time': None},\n    {'lat': 45.2501026, 'lon': 19.8330807, 'time': None},\n    {'lat': 45.2501026, 'lon': 19.8330809, 'time': None},\n    {'lat': 45.2501026, 'lon': 19.8330809, 'time': None},\n    {'lat': 45.2501026, 'lon': 19.833081, 'time': None},\n    {'lat': 45.2501026, 'lon': 19.833081, 'time': None},\n    {'lat': 45.2501026, 'lon': 19.833081, 'time': None},\n    {'lat': 45.2501026, 'lon': 19.833081, 'time': None},\n    {'lat': 45.2501026, 'lon': 19.833081, 'time': None},\n    {'lat': 45.2500841, 'lon': 19.8330546, 'time': None},\n    {'lat': 45.2500745, 'lon': 19.8330412, 'time': None},\n    {'lat': 45.250069, 'lon': 19.8330337, 'time': None},\n    {'lat': 45.2500647, 'lon': 19.833028, 'time': None},\n    {'lat': 45.2500637, 'lon': 19.8330267, 'time': None},\n    {'lat': 45.2500629, 'lon': 19.8330257, 'time': None},\n    {'lat': 45.2500621, 'lon': 19.8330247, 'time': None},\n    {'lat': 45.2500616, 'lon': 19.8330241, 'time': None},\n    {'lat': 45.2500613, 'lon': 19.8330237, 'time': None},\n    {'lat': 45.2500612, 'lon': 19.8330236, 'time': None},\n    {'lat': 45.2500611, 'lon': 19.8330235, 'time': None},\n    {'lat': 45.2500611, 'lon': 19.8330235, 'time': None},\n    {'lat': 45.250061, 'lon': 19.8330234, 'time': None},\n    {'lat': 45.250061, 'lon': 19.8330234, 'time': None},\n    {'lat': 45.250061, 'lon': 19.8330234, 'time': None},\n    {'lat': 45.2500508, 'lon': 19.8330148, 'time': None},\n    {'lat': 45.2500318, 'lon': 19.8329957, 'time': None},\n    {'lat': 45.2500054, 'lon': 19.8329615, 'time': None},\n    {'lat': 45.2499849, 'lon': 19.8329345, 'time': None},\n    {'lat': 45.2499321, 'lon': 19.8328578, 'time': None},\n    {'lat': 45.2498868, 'lon': 19.8327682, 'time': None},\n    {'lat': 45.2498502, 'lon': 19.8326849, 'time': None},\n    {'lat': 45.2498082, 'lon': 19.8325895, 'time': None},\n    {'lat': 45.2497674, 'lon': 19.8324989, 'time': None},\n    {'lat': 45.2497271, 'lon': 19.8324112, 'time': None},\n    {'lat': 45.2496853, 'lon': 19.8323171, 'time': None},\n    {'lat': 45.2496451, 'lon': 19.8322211, 'time': None},\n    {'lat': 45.2496002, 'lon': 19.8321151, 'time': None},\n    {'lat': 45.249555, 'lon': 19.8319986, 'time': None},\n    {'lat': 45.249515, 'lon': 19.8318779, 'time': None},\n    {'lat': 45.2494763, 'lon': 19.8317516, 'time': None},\n    {'lat': 45.2494383, 'lon': 19.8316212, 'time': None},\n    {'lat': 45.2494038, 'lon': 19.8314902, 'time': None},\n    {'lat': 45.2493694, 'lon': 19.8313598, 'time': None},\n    {'lat': 45.2493351, 'lon': 19.8312317, 'time': None},\n    {'lat': 45.2493088, 'lon': 19.8311013, 'time': None},\n    {'lat': 45.2492895, 'lon': 19.83097, 'time': None},\n    {'lat': 45.2492739, 'lon': 19.8308327, 'time': None},\n    {'lat': 45.2492641, 'lon': 19.8306912, 'time': None},\n    {'lat': 45.2492613, 'lon': 19.830547, 'time': None},\n    {'lat': 45.249261, 'lon': 19.8303939, 'time': None},\n    {'lat': 45.24926, 'lon': 19.8302401, 'time': None},\n    {'lat': 45.2492531, 'lon': 19.8300767, 'time': None},\n    {'lat': 45.249249, 'lon': 19.8299098, 'time': None},\n    {'lat': 45.2492413, 'lon': 19.8297427, 'time': None},\n    {'lat': 45.2492323, 'lon': 19.8295741, 'time': None},\n    {'lat': 45.2492244, 'lon': 19.8294062, 'time': None},\n    {'lat': 45.2492175, 'lon': 19.8292396, 'time': None},\n    {'lat': 45.2492115, 'lon': 19.8290789, 'time': None},\n    {'lat': 45.2492048, 'lon': 19.8289148, 'time': None},\n    {'lat': 45.2492015, 'lon': 19.8287502, 'time': None},\n    {'lat': 45.2492022, 'lon': 19.8285803, 'time': None},\n    {'lat': 45.2492007, 'lon': 19.8284147, 'time': None},\n    {'lat': 45.2491986, 'lon': 19.8282479, 'time': None},\n    {'lat': 45.2491942, 'lon': 19.8280824, 'time': None},\n    {'lat': 45.2491904, 'lon': 19.827914, 'time': None},\n    {'lat': 45.249187, 'lon': 19.8277428, 'time': None},\n    {'lat': 45.249186, 'lon': 19.8275738, 'time': None},\n    {'lat': 45.2491896, 'lon': 19.8274051, 'time': None},\n    {'lat': 45.2491969, 'lon': 19.8272398, 'time': None},\n    {'lat': 45.2492054, 'lon': 19.8270706, 'time': None},\n    {'lat': 45.249213, 'lon': 19.8269021, 'time': None},\n    {'lat': 45.2492222, 'lon': 19.8267335, 'time': None},\n    {'lat': 45.2492327, 'lon': 19.8265697, 'time': None},\n    {'lat': 45.2492422, 'lon': 19.826401, 'time': None},\n    {'lat': 45.2492515, 'lon': 19.8262371, 'time': None},\n    {'lat': 45.2492603, 'lon': 19.8260633, 'time': None},\n    {'lat': 45.2492663, 'lon': 19.8259164, 'time': None},\n    {'lat': 45.2492766, 'lon': 19.8257555, 'time': None},\n    {'lat': 45.2492904, 'lon': 19.8256041, 'time': None},\n    {'lat': 45.2493051, 'lon': 19.8254575, 'time': None},\n    {'lat': 45.2493195, 'lon': 19.8253141, 'time': None},\n    {'lat': 45.2493348, 'lon': 19.8251762, 'time': None},\n    {'lat': 45.2493504, 'lon': 19.825043, 'time': None},\n    {'lat': 45.2493681, 'lon': 19.8249156, 'time': None},\n    {'lat': 45.2493831, 'lon': 19.824803, 'time': None},\n    {'lat': 45.2493937, 'lon': 19.8246992, 'time': None},\n    {'lat': 45.2494093, 'lon': 19.8246276, 'time': None},\n    {'lat': 45.2494271, 'lon': 19.8245932, 'time': None},\n    {'lat': 45.2494355, 'lon': 19.8245918, 'time': None},\n    {'lat': 45.2494417, 'lon': 19.8245848, 'time': None},\n    {'lat': 45.2494352, 'lon': 19.824596, 'time': None},\n    {'lat': 45.2494314, 'lon': 19.8246026, 'time': None},\n    {'lat': 45.2494385, 'lon': 19.8245988, 'time': None},\n    {'lat': 45.2494569, 'lon': 19.8245924, 'time': None},\n    {'lat': 45.2494891, 'lon': 19.8245874, 'time': None},\n    {'lat': 45.2495431, 'lon': 19.8245825, 'time': None},\n    {'lat': 45.2496121, 'lon': 19.8245734, 'time': None},\n    {'lat': 45.2496936, 'lon': 19.8245623, 'time': None},\n    {'lat': 45.2498102, 'lon': 19.8245493, 'time': None},\n    {'lat': 45.2498992, 'lon': 19.8245409, 'time': None},\n    {'lat': 45.2500029, 'lon': 19.8245328, 'time': None},\n    {'lat': 45.2501136, 'lon': 19.8245247, 'time': None},\n    {'lat': 45.2502197, 'lon': 19.8245165, 'time': None},\n    {'lat': 45.2503301, 'lon': 19.8245122, 'time': None},\n    {'lat': 45.25044, 'lon': 19.8245107, 'time': None},\n    {'lat': 45.2505511, 'lon': 19.8245094, 'time': None},\n    {'lat': 45.2506639, 'lon': 19.8245119, 'time': None},\n    {'lat': 45.250778, 'lon': 19.8245122, 'time': None},\n    {'lat': 45.2508954, 'lon': 19.8245092, 'time': None},\n    {'lat': 45.2510114, 'lon': 19.8245041, 'time': None},\n    {'lat': 45.2511295, 'lon': 19.8244971, 'time': None},\n    {'lat': 45.2512422, 'lon': 19.8244893, 'time': None},\n    {'lat': 45.251355, 'lon': 19.824482, 'time': None},\n    {'lat': 45.2514675, 'lon': 19.824474, 'time': None},\n    {'lat': 45.2515784, 'lon': 19.8244659, 'time': None},\n    {'lat': 45.2516903, 'lon': 19.8244589, 'time': None},\n    {'lat': 45.2518019, 'lon': 19.824453, 'time': None},\n    {'lat': 45.2519193, 'lon': 19.824446, 'time': None},\n    {'lat': 45.2520452, 'lon': 19.8244383, 'time': None},\n    {'lat': 45.252176, 'lon': 19.8244284, 'time': None},\n    {'lat': 45.2523031, 'lon': 19.8244193, 'time': None},\n    {'lat': 45.2524318, 'lon': 19.8244119, 'time': None},\n    {'lat': 45.2525518, 'lon': 19.8244059, 'time': None},\n    {'lat': 45.2526714, 'lon': 19.8244032, 'time': None},\n    {'lat': 45.2527883, 'lon': 19.824401, 'time': None},\n    {'lat': 45.2529094, 'lon': 19.824399, 'time': None},\n    {'lat': 45.2530164, 'lon': 19.8243979, 'time': None},\n    {'lat': 45.2531245, 'lon': 19.8243952, 'time': None}]}]}"
     },
     "execution_count": 36,
     "metadata": {},
     "output_type": "execute_result"
    }
   ],
   "source": [
    "gpx_list[1].as_dict()"
   ],
   "metadata": {
    "collapsed": false,
    "ExecuteTime": {
     "end_time": "2023-10-01T12:10:48.418424Z",
     "start_time": "2023-10-01T12:10:48.410352Z"
    }
   },
   "id": "95a650af5369630e"
  },
  {
   "cell_type": "code",
   "execution_count": null,
   "outputs": [],
   "source": [],
   "metadata": {
    "collapsed": false
   },
   "id": "90ea9ff934a7094f"
  }
 ],
 "metadata": {
  "kernelspec": {
   "display_name": "Python 3",
   "language": "python",
   "name": "python3"
  },
  "language_info": {
   "codemirror_mode": {
    "name": "ipython",
    "version": 2
   },
   "file_extension": ".py",
   "mimetype": "text/x-python",
   "name": "python",
   "nbconvert_exporter": "python",
   "pygments_lexer": "ipython2",
   "version": "2.7.6"
  }
 },
 "nbformat": 4,
 "nbformat_minor": 5
}
